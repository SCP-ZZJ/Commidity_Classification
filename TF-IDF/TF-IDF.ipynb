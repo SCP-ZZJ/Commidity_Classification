{
 "cells": [
  {
   "cell_type": "markdown",
   "metadata": {},
   "source": [
    "## IMPORT PACKAGES"
   ]
  },
  {
   "cell_type": "code",
   "execution_count": 42,
   "metadata": {},
   "outputs": [],
   "source": [
    "import numpy as np\n",
    "import os\n",
    "import nltk\n",
    "import torch\n",
    "import torch.nn\n",
    "import torchtext.vocab as vocab\n",
    "from sklearn import metrics\n",
    "import pandas as pd\n",
    "import warnings\n",
    "from sklearn.metrics import accuracy_score, f1_score, recall_score, roc_curve, auc\n",
    "from sklearn.linear_model import LinearRegression\n",
    "from datetime import datetime\n",
    "from sklearn.neighbors import KNeighborsClassifier\n",
    "from sklearn.model_selection import train_test_split, learning_curve\n",
    "from sklearn.linear_model import LogisticRegression\n",
    "import matplotlib.pyplot as plt\n",
    "\n",
    "warnings.filterwarnings(\"ignore\")"
   ]
  },
  {
   "cell_type": "markdown",
   "metadata": {},
   "source": [
    "## DEFINE FUNCTION"
   ]
  },
  {
   "cell_type": "code",
   "execution_count": 43,
   "metadata": {},
   "outputs": [],
   "source": [
    "def load_data():\n",
    "    df = pd.read_csv(\"D:/jupyter-workplace/classification_project/data_cleaning/product_classification_ros.csv\", encoding='utf_8_sig')\n",
    "    print(df.columns)\n",
    "    texts = df['ProductName'].values\n",
    "    df = df.fillna(-1)\n",
    "    # labels = np.argmax(df[df.columns[-4:]].values, axis=1)\n",
    "    labels = df['level_1'].values\n",
    "    label2id = {l: i for i, l in enumerate(set(labels))}\n",
    "    id2label = {i: l for l, i in label2id.items()}\n",
    "    labels = [label2id[l] for l in labels]\n",
    "    return texts, labels, id2label"
   ]
  },
  {
   "cell_type": "code",
   "execution_count": 44,
   "metadata": {},
   "outputs": [],
   "source": [
    "def text_preprocess(text):\n",
    "    text = str(text)\n",
    "    english_punctuations = [',', '.', ':', ';', '?', '(', ')', '[', ']', '&', '!', '*', '@', '#', '$', '%', '\\'', '/']\n",
    "    text = \"\".join([(a if a not in english_punctuations else \" \") for a in text])\n",
    "    text = \" \".join(nltk.tokenize.word_tokenize(text.lower()))\n",
    "    return text"
   ]
  },
  {
   "cell_type": "code",
   "execution_count": 45,
   "metadata": {},
   "outputs": [],
   "source": [
    "def evaluation(predictions, labels, id2label, model_name=None):\n",
    "    acc = accuracy_score(labels, predictions)\n",
    "    recall = recall_score(labels, predictions, average=\"macro\")\n",
    "    f1 = f1_score(labels, predictions, average=\"macro\")\n",
    "    report = metrics.classification_report(labels, predictions,\n",
    "                                           target_names=[id2label[i] for i in range(len(id2label))])\n",
    "    info = \"acc:%s, recall:%s, f1 score:%s\" % (acc, recall, f1)\n",
    "    if model_name is not None:\n",
    "        info = \"%s: %s\" % (model_name, info)\n",
    "    print(info)\n",
    "    print(report)"
   ]
  },
  {
   "cell_type": "markdown",
   "metadata": {},
   "source": [
    "## Data Processing"
   ]
  },
  {
   "cell_type": "code",
   "execution_count": 46,
   "metadata": {
    "scrolled": true
   },
   "outputs": [
    {
     "name": "stdout",
     "output_type": "stream",
     "text": [
      "Index(['ProductName', 'level_1', 'level_2', 'level_3'], dtype='object')\n"
     ]
    }
   ],
   "source": [
    "texts, labels, id2label = load_data()  \n",
    "texts = [text_preprocess(t) for t in texts]"
   ]
  },
  {
   "cell_type": "code",
   "execution_count": 47,
   "metadata": {},
   "outputs": [
    {
     "name": "stdout",
     "output_type": "stream",
     "text": [
      "data len: 41250\n",
      "id2label {0: 'Personal Care', 1: 'Baby, Toddler & Kids', 2: 'Kitchen, Dining & Household', 3: 'Chilled, Frozen & Desserts', 4: 'Featured', 5: 'Fresh Foods & Bakery', 6: 'Meal Spot', 7: 'Pantry', 8: 'Beer, Cider & Wine', 9: 'Drinks', 10: 'Pets'}\n"
     ]
    }
   ],
   "source": [
    "from sklearn.feature_extraction.text import TfidfVectorizer \n",
    "vectorizer = TfidfVectorizer() \n",
    "features=vectorizer.fit_transform(texts)\n",
    "print(\"data len:\", len(texts))\n",
    "print(\"id2label\",id2label)"
   ]
  },
  {
   "cell_type": "code",
   "execution_count": 48,
   "metadata": {},
   "outputs": [],
   "source": [
    "#测试集划分\n",
    "x_train, x_test, y_train, y_test = train_test_split(features, labels, test_size=0.25,\n",
    "                                                                            random_state=3)"
   ]
  },
  {
   "cell_type": "markdown",
   "metadata": {},
   "source": [
    "## 预跑模型"
   ]
  },
  {
   "cell_type": "markdown",
   "metadata": {},
   "source": [
    "## Logistic Regression"
   ]
  },
  {
   "cell_type": "code",
   "execution_count": 49,
   "metadata": {},
   "outputs": [
    {
     "name": "stdout",
     "output_type": "stream",
     "text": [
      "logistic: acc:0.9807039658683215, recall:0.9808419206371245, f1 score:0.9807019252033264\n",
      "                             precision    recall  f1-score   support\n",
      "\n",
      "              Personal Care       0.99      0.98      0.98       942\n",
      "       Baby, Toddler & Kids       1.00      1.00      1.00       931\n",
      "Kitchen, Dining & Household       0.99      0.98      0.99       911\n",
      " Chilled, Frozen & Desserts       0.96      0.97      0.97       951\n",
      "                   Featured       0.97      1.00      0.98       930\n",
      "       Fresh Foods & Bakery       0.97      0.96      0.96       943\n",
      "                  Meal Spot       0.98      1.00      0.99       941\n",
      "                     Pantry       0.95      0.91      0.93       949\n",
      "         Beer, Cider & Wine       1.00      1.00      1.00       929\n",
      "                     Drinks       0.99      0.99      0.99       953\n",
      "                       Pets       1.00      1.00      1.00       933\n",
      "\n",
      "                   accuracy                           0.98     10313\n",
      "                  macro avg       0.98      0.98      0.98     10313\n",
      "               weighted avg       0.98      0.98      0.98     10313\n",
      "\n"
     ]
    }
   ],
   "source": [
    "#Logistic Regression\n",
    "model = LogisticRegression()\n",
    "model.fit(x_train, y_train)\n",
    "predict_labels = model.predict(x_test)\n",
    "# print(predict_labels)\n",
    "predict_labels = [np.round(p) for p in predict_labels]\n",
    "max_label = len(id2label) - 1\n",
    "predict_labels = [l if max_label >= l else max_label for l in predict_labels]\n",
    "min_label = 0\n",
    "predict_labels = [l if min_label <= l else min_label for l in predict_labels]\n",
    "evaluation(predict_labels, y_test,id2label, \"logistic\")"
   ]
  },
  {
   "cell_type": "markdown",
   "metadata": {},
   "source": [
    "## KNN"
   ]
  },
  {
   "cell_type": "code",
   "execution_count": 50,
   "metadata": {},
   "outputs": [
    {
     "name": "stdout",
     "output_type": "stream",
     "text": [
      "knn: acc:0.9501599922428003, recall:0.950448910368802, f1 score:0.949232836029929\n",
      "                             precision    recall  f1-score   support\n",
      "\n",
      "              Personal Care       0.98      0.93      0.95       942\n",
      "       Baby, Toddler & Kids       0.96      1.00      0.98       931\n",
      "Kitchen, Dining & Household       0.96      0.95      0.96       911\n",
      " Chilled, Frozen & Desserts       0.93      0.92      0.93       951\n",
      "                   Featured       0.92      1.00      0.96       930\n",
      "       Fresh Foods & Bakery       0.91      0.94      0.92       943\n",
      "                  Meal Spot       0.94      1.00      0.97       941\n",
      "                     Pantry       0.94      0.76      0.84       949\n",
      "         Beer, Cider & Wine       0.98      0.98      0.98       929\n",
      "                     Drinks       0.95      0.99      0.97       953\n",
      "                       Pets       0.97      0.99      0.98       933\n",
      "\n",
      "                   accuracy                           0.95     10313\n",
      "                  macro avg       0.95      0.95      0.95     10313\n",
      "               weighted avg       0.95      0.95      0.95     10313\n",
      "\n"
     ]
    }
   ],
   "source": [
    "#KNN\n",
    "k = len(id2label)\n",
    "model = KNeighborsClassifier(n_neighbors=k)\n",
    "model.fit(x_train, y_train)\n",
    "knn_predict_labels = model.predict(x_test)\n",
    "evaluation(knn_predict_labels, y_test, id2label, \"knn\")"
   ]
  },
  {
   "cell_type": "markdown",
   "metadata": {},
   "source": [
    "## 寻找最佳K值"
   ]
  },
  {
   "cell_type": "code",
   "execution_count": 51,
   "metadata": {},
   "outputs": [
    {
     "name": "stdout",
     "output_type": "stream",
     "text": [
      "The optimal number of neighbors is 1\n"
     ]
    },
    {
     "data": {
      "image/png": "[encoded data removed]",
      "text/plain": [
       "<Figure size 432x288 with 1 Axes>"
      ]
     },
     "metadata": {
      "needs_background": "light"
     },
     "output_type": "display_data"
    }
   ],
   "source": [
    "from sklearn.model_selection import cross_val_score\n",
    "def knn_cross_validation(x_train, y_train):\n",
    "    k_list = list(range(1, 30))\n",
    "    list_scores = []\n",
    "\n",
    "    for k in k_list:\n",
    "        knn = KNeighborsClassifier(n_neighbors=k)\n",
    "        scores = cross_val_score(knn, x_train, y_train, cv=10, scoring='accuracy')\n",
    "        list_scores.append(scores.mean())\n",
    "\n",
    "    # changing to misclassification error\n",
    "    MSE = [1 - x for x in list_scores]\n",
    "    optimal_k = k_list[MSE.index(min(MSE))]\n",
    "    print (\"The optimal number of neighbors is %d\" % optimal_k)\n",
    "    # plot misclassification error vs k\n",
    "    # plt.plot(k_lst, MSE)\n",
    "    # plt.ylabel('Misclassification Error')\n",
    "    plt.plot(k_list, list_scores)\n",
    "    plt.xlabel('Number of Neighbors K')\n",
    "    plt.ylabel('correct classification rate')\n",
    "    plt.show()\n",
    "    return optimal_k\n",
    "\n",
    "k = knn_cross_validation(x_train, y_train)"
   ]
  },
  {
   "cell_type": "code",
   "execution_count": 52,
   "metadata": {},
   "outputs": [
    {
     "data": {
      "image/png": "[encoded data removed]",
      "text/plain": [
       "<Figure size 432x288 with 1 Axes>"
      ]
     },
     "metadata": {
      "needs_background": "light"
     },
     "output_type": "display_data"
    }
   ],
   "source": [
    "knn = KNeighborsClassifier(n_neighbors=9)\n",
    "train_sizes,train_score,test_score = learning_curve(knn,features, labels,cv=5, scoring='accuracy', train_sizes=[0.1, 0.25, 0.5, 0.75, 1])\n",
    "\n",
    "train_sizes,train_score,test_score = learning_curve(knn,features,labels,train_sizes=[0.1,0.2,0.4,0.6,0.8,1],cv=5,scoring='accuracy')\n",
    "train_error =  1- np.mean(train_score,axis=1)\n",
    "test_error = 1- np.mean(test_score,axis=1)\n",
    "plt.plot(train_sizes,train_error,'o-',color = 'r',label = 'training')\n",
    "plt.plot(train_sizes,test_error,'o-',color = 'g',label = 'testing')\n",
    "plt.legend(loc='best')\n",
    "plt.xlabel('traing examples')\n",
    "plt.ylabel('error')\n",
    "plt.show()"
   ]
  },
  {
   "cell_type": "markdown",
   "metadata": {},
   "source": [
    "## SVM"
   ]
  },
  {
   "cell_type": "code",
   "execution_count": 53,
   "metadata": {},
   "outputs": [
    {
     "name": "stdout",
     "output_type": "stream",
     "text": [
      "svm: acc:0.9908852904101619, recall:0.9909714168332218, f1 score:0.9908867376774417\n",
      "                             precision    recall  f1-score   support\n",
      "\n",
      "              Personal Care       0.99      0.99      0.99       942\n",
      "       Baby, Toddler & Kids       1.00      1.00      1.00       931\n",
      "Kitchen, Dining & Household       1.00      1.00      1.00       911\n",
      " Chilled, Frozen & Desserts       0.98      0.99      0.99       951\n",
      "                   Featured       0.99      1.00      0.99       930\n",
      "       Fresh Foods & Bakery       0.98      0.98      0.98       943\n",
      "                  Meal Spot       0.99      1.00      0.99       941\n",
      "                     Pantry       0.98      0.94      0.96       949\n",
      "         Beer, Cider & Wine       1.00      1.00      1.00       929\n",
      "                     Drinks       0.99      1.00      1.00       953\n",
      "                       Pets       1.00      1.00      1.00       933\n",
      "\n",
      "                   accuracy                           0.99     10313\n",
      "                  macro avg       0.99      0.99      0.99     10313\n",
      "               weighted avg       0.99      0.99      0.99     10313\n",
      "\n"
     ]
    }
   ],
   "source": [
    "#undersamled\n",
    "from sklearn.multiclass import OneVsRestClassifier\n",
    "from sklearn.svm import SVC\n",
    "\n",
    "model = OneVsRestClassifier(SVC())\n",
    "model.fit(x_train, y_train)\n",
    "predict_labels = model.predict(x_test)\n",
    "evaluation(predict_labels, y_test, id2label, \"svm\")"
   ]
  },
  {
   "cell_type": "code",
   "execution_count": 54,
   "metadata": {},
   "outputs": [
    {
     "data": {
      "image/png": "[encoded data removed]",
      "text/plain": [
       "<Figure size 432x288 with 1 Axes>"
      ]
     },
     "metadata": {
      "needs_background": "light"
     },
     "output_type": "display_data"
    }
   ],
   "source": [
    "train_sizes,train_score,test_score = learning_curve(SVC(),features,labels,train_sizes=[0.1,0.2,0.4,0.6,0.8,1],cv=5,scoring='accuracy')\n",
    "train_error =  1- np.mean(train_score,axis=1)\n",
    "test_error = 1- np.mean(test_score,axis=1)\n",
    "plt.plot(train_sizes,train_error,'o-',color = 'r',label = 'training')\n",
    "plt.plot(train_sizes,test_error,'o-',color = 'g',label = 'testing')\n",
    "plt.legend(loc='best')\n",
    "plt.xlabel('traing examples')\n",
    "plt.ylabel('error')\n",
    "plt.show()"
   ]
  },
  {
   "cell_type": "markdown",
   "metadata": {},
   "source": [
    "## SVM-gridSearch寻找最优参数"
   ]
  },
  {
   "cell_type": "code",
   "execution_count": 56,
   "metadata": {},
   "outputs": [
    {
     "name": "stdout",
     "output_type": "stream",
     "text": [
      "# Tuning hyper-parameters for precision\n",
      "\n",
      "Best parameters set found on development set:\n",
      "\n",
      "{'C': 10, 'kernel': 'linear'}\n",
      "\n",
      "Grid scores on development set:\n",
      "\n",
      "0.008 (+/-0.000) for {'C': 1, 'gamma': 0.001, 'kernel': 'rbf'}\n",
      "0.008 (+/-0.000) for {'C': 1, 'gamma': 0.0001, 'kernel': 'rbf'}\n",
      "0.892 (+/-0.011) for {'C': 10, 'gamma': 0.001, 'kernel': 'rbf'}\n",
      "0.008 (+/-0.000) for {'C': 10, 'gamma': 0.0001, 'kernel': 'rbf'}\n",
      "0.969 (+/-0.003) for {'C': 100, 'gamma': 0.001, 'kernel': 'rbf'}\n",
      "0.892 (+/-0.011) for {'C': 100, 'gamma': 0.0001, 'kernel': 'rbf'}\n",
      "0.988 (+/-0.002) for {'C': 1000, 'gamma': 0.001, 'kernel': 'rbf'}\n",
      "0.969 (+/-0.003) for {'C': 1000, 'gamma': 0.0001, 'kernel': 'rbf'}\n",
      "0.986 (+/-0.002) for {'C': 1, 'kernel': 'linear'}\n",
      "0.989 (+/-0.002) for {'C': 10, 'kernel': 'linear'}\n",
      "0.988 (+/-0.002) for {'C': 100, 'kernel': 'linear'}\n",
      "0.988 (+/-0.002) for {'C': 1000, 'kernel': 'linear'}\n",
      "\n",
      "Detailed classification report:\n",
      "\n",
      "The model is trained on the full development set.\n",
      "The scores are computed on the full evaluation set.\n",
      "\n",
      "              precision    recall  f1-score   support\n",
      "\n",
      "           0       0.99      1.00      0.99       942\n",
      "           1       1.00      1.00      1.00       931\n",
      "           2       0.99      1.00      1.00       911\n",
      "           3       0.97      0.99      0.98       951\n",
      "           4       0.99      1.00      1.00       930\n",
      "           5       0.97      0.99      0.98       943\n",
      "           6       0.99      1.00      1.00       941\n",
      "           7       0.98      0.92      0.95       949\n",
      "           8       1.00      1.00      1.00       929\n",
      "           9       0.99      1.00      1.00       953\n",
      "          10       1.00      1.00      1.00       933\n",
      "\n",
      "    accuracy                           0.99     10313\n",
      "   macro avg       0.99      0.99      0.99     10313\n",
      "weighted avg       0.99      0.99      0.99     10313\n",
      "\n",
      "\n",
      "# Tuning hyper-parameters for recall\n",
      "\n",
      "Best parameters set found on development set:\n",
      "\n",
      "{'C': 10, 'kernel': 'linear'}\n",
      "\n",
      "Grid scores on development set:\n",
      "\n",
      "0.091 (+/-0.000) for {'C': 1, 'gamma': 0.001, 'kernel': 'rbf'}\n",
      "0.091 (+/-0.000) for {'C': 1, 'gamma': 0.0001, 'kernel': 'rbf'}\n",
      "0.843 (+/-0.012) for {'C': 10, 'gamma': 0.001, 'kernel': 'rbf'}\n",
      "0.091 (+/-0.000) for {'C': 10, 'gamma': 0.0001, 'kernel': 'rbf'}\n",
      "0.968 (+/-0.002) for {'C': 100, 'gamma': 0.001, 'kernel': 'rbf'}\n",
      "0.843 (+/-0.013) for {'C': 100, 'gamma': 0.0001, 'kernel': 'rbf'}\n",
      "0.988 (+/-0.002) for {'C': 1000, 'gamma': 0.001, 'kernel': 'rbf'}\n",
      "0.968 (+/-0.002) for {'C': 1000, 'gamma': 0.0001, 'kernel': 'rbf'}\n",
      "0.986 (+/-0.002) for {'C': 1, 'kernel': 'linear'}\n",
      "0.989 (+/-0.002) for {'C': 10, 'kernel': 'linear'}\n",
      "0.988 (+/-0.002) for {'C': 100, 'kernel': 'linear'}\n",
      "0.988 (+/-0.002) for {'C': 1000, 'kernel': 'linear'}\n",
      "\n",
      "Detailed classification report:\n",
      "\n",
      "The model is trained on the full development set.\n",
      "The scores are computed on the full evaluation set.\n",
      "\n",
      "              precision    recall  f1-score   support\n",
      "\n",
      "           0       0.99      1.00      0.99       942\n",
      "           1       1.00      1.00      1.00       931\n",
      "           2       0.99      1.00      1.00       911\n",
      "           3       0.97      0.99      0.98       951\n",
      "           4       0.99      1.00      1.00       930\n",
      "           5       0.97      0.99      0.98       943\n",
      "           6       0.99      1.00      1.00       941\n",
      "           7       0.98      0.92      0.95       949\n",
      "           8       1.00      1.00      1.00       929\n",
      "           9       0.99      1.00      1.00       953\n",
      "          10       1.00      1.00      1.00       933\n",
      "\n",
      "    accuracy                           0.99     10313\n",
      "   macro avg       0.99      0.99      0.99     10313\n",
      "weighted avg       0.99      0.99      0.99     10313\n",
      "\n",
      "\n"
     ]
    }
   ],
   "source": [
    "from sklearn.model_selection import GridSearchCV\n",
    "from sklearn.metrics import classification_report\n",
    "from sklearn.svm import SVC\n",
    "# Set the parameters by cross-validation\n",
    "tuned_parameters = [{'kernel': ['rbf'], 'gamma': [1e-3, 1e-4],\n",
    "                     'C': [1, 10, 100, 1000]},\n",
    "                    {'kernel': ['linear'], 'C': [1, 10, 100, 1000]}]\n",
    "\n",
    "scores = ['precision', 'recall']\n",
    "\n",
    "for score in scores:\n",
    "    print(\"# Tuning hyper-parameters for %s\" % score)\n",
    "    print()\n",
    "\n",
    "    clf = GridSearchCV(\n",
    "        SVC(), tuned_parameters, scoring='%s_macro' % score\n",
    "    )\n",
    "    clf.fit(x_train, y_train)\n",
    "\n",
    "    print(\"Best parameters set found on development set:\")\n",
    "    print()\n",
    "    print(clf.best_params_)\n",
    "    print()\n",
    "    print(\"Grid scores on development set:\")\n",
    "    print()\n",
    "    means = clf.cv_results_['mean_test_score']\n",
    "    stds = clf.cv_results_['std_test_score']\n",
    "    for mean, std, params in zip(means, stds, clf.cv_results_['params']):\n",
    "        print(\"%0.3f (+/-%0.03f) for %r\"\n",
    "              % (mean, std * 2, params))\n",
    "    print()\n",
    "\n",
    "    print(\"Detailed classification report:\")\n",
    "    print()\n",
    "    print(\"The model is trained on the full development set.\")\n",
    "    print(\"The scores are computed on the full evaluation set.\")\n",
    "    print()\n",
    "    y_true, y_pred = y_test, clf.predict(x_test)\n",
    "    print(classification_report(y_true, y_pred))\n",
    "    print()"
   ]
  },
  {
   "cell_type": "code",
   "execution_count": 57,
   "metadata": {},
   "outputs": [
    {
     "data": {
      "image/png": "[encoded data removed]",
      "text/plain": [
       "<Figure size 432x288 with 1 Axes>"
      ]
     },
     "metadata": {
      "needs_background": "light"
     },
     "output_type": "display_data"
    }
   ],
   "source": [
    "train_sizes,train_score,test_score = learning_curve(SVC(C=1000, gamma=0.001, kernel='rbf'),features,labels,train_sizes=[0.1,0.2,0.4,0.6,0.8,1],cv=5,scoring='accuracy')\n",
    "train_error =  1- np.mean(train_score,axis=1)\n",
    "test_error = 1- np.mean(test_score,axis=1)\n",
    "plt.plot(train_sizes,train_error,'o-',color = 'r',label = 'training')\n",
    "plt.plot(train_sizes,test_error,'o-',color = 'g',label = 'testing')\n",
    "plt.legend(loc='best')\n",
    "plt.xlabel('traing examples')\n",
    "plt.ylabel('error')\n",
    "plt.show()"
   ]
  },
  {
   "cell_type": "code",
   "execution_count": 58,
   "metadata": {
    "scrolled": true
   },
   "outputs": [
    {
     "name": "stdout",
     "output_type": "stream",
     "text": [
      "svm: acc:0.9856491806457869, recall:0.9857806463544254, f1 score:0.9856091415922676\n",
      "                             precision    recall  f1-score   support\n",
      "\n",
      "              Personal Care       0.99      0.99      0.99       942\n",
      "       Baby, Toddler & Kids       1.00      1.00      1.00       931\n",
      "Kitchen, Dining & Household       0.99      0.99      0.99       911\n",
      " Chilled, Frozen & Desserts       0.97      0.97      0.97       951\n",
      "                   Featured       0.97      1.00      0.99       930\n",
      "       Fresh Foods & Bakery       0.97      0.98      0.98       943\n",
      "                  Meal Spot       0.99      1.00      1.00       941\n",
      "                     Pantry       0.97      0.91      0.94       949\n",
      "         Beer, Cider & Wine       1.00      1.00      1.00       929\n",
      "                     Drinks       0.99      1.00      1.00       953\n",
      "                       Pets       1.00      1.00      1.00       933\n",
      "\n",
      "                   accuracy                           0.99     10313\n",
      "                  macro avg       0.99      0.99      0.99     10313\n",
      "               weighted avg       0.99      0.99      0.99     10313\n",
      "\n"
     ]
    }
   ],
   "source": [
    "# undersampled\n",
    "from sklearn.svm import SVC\n",
    "from sklearn.multiclass import OneVsRestClassifier\n",
    "model = OneVsRestClassifier(SVC(C=1000, gamma=0.001, kernel='rbf'))\n",
    "model.fit(x_train, y_train) \n",
    "svm_predict_labels = model.predict(x_test)\n",
    "evaluation(svm_predict_labels, y_test, id2label, \"svm\")"
   ]
  },
  {
   "cell_type": "markdown",
   "metadata": {},
   "source": [
    "## LightGBM with GBDT"
   ]
  },
  {
   "cell_type": "code",
   "execution_count": 59,
   "metadata": {},
   "outputs": [],
   "source": [
    "import lightgbm as lgb\n",
    "\n",
    "def lgb_model(x_train, x_test, y_train, y_test, verbose):\n",
    "    params = {'num_leaves': 60,\n",
    "    'min_data_in_leaf': 30,\n",
    "    'objective': 'multiclass',\n",
    "    'num_class': 33,\n",
    "    'max_depth': 7,\n",
    "    'learning_rate': 0.03,\n",
    "    \"min_sum_hessian_in_leaf\": 6,\n",
    "    \"boosting\": \"gbdt\",\n",
    "    \"feature_fraction\": 0.9,\n",
    "    \"bagging_freq\": 1,\n",
    "    \"bagging_fraction\": 0.8,\n",
    "    \"bagging_seed\": 11,\n",
    "    \"lambda_l1\": 0.1,\n",
    "    \"verbosity\": -1,\n",
    "    \"nthread\": 15,\n",
    "    'metric': 'multi_error',\n",
    "    \"random_state\": 2020\n",
    "          }\n",
    "\n",
    "    evals_result = {}\n",
    "    lgb_train = lgb.Dataset(x_train, y_train)\n",
    "    lgb_test = lgb.Dataset(x_test, y_test, reference=lgb_train)\n",
    "    model = lgb.train(params\n",
    "                      , lgb_train\n",
    "                      , num_boost_round = 100000\n",
    "                      , valid_sets = [lgb_train, lgb_test]\n",
    "                      , verbose_eval = verbose\n",
    "                      , early_stopping_rounds = 500\n",
    "                      , evals_result=evals_result\n",
    "                     )\n",
    "\n",
    "    print('Predicting...') \n",
    "    y_prob = model.predict(x_test, num_iteration=model.best_iteration)\n",
    "    lgb_predict_labels = [list(x).index(max(x)) for x in y_prob]\n",
    "    print(\"AUC score: {:<8.5f}\".format(metrics.accuracy_score(lgb_predict_labels, y_test)))\n",
    "    report = metrics.classification_report(y_test, lgb_predict_labels, target_names=[id2label[i] for i in range(len(id2label))])\n",
    "    print(report)\n",
    "    return model, evals_result"
   ]
  },
  {
   "cell_type": "code",
   "execution_count": 60,
   "metadata": {},
   "outputs": [
    {
     "name": "stdout",
     "output_type": "stream",
     "text": [
      "Predicting...\n",
      "AUC score: 0.92301 \n",
      "                             precision    recall  f1-score   support\n",
      "\n",
      "              Personal Care       0.93      0.90      0.92       942\n",
      "       Baby, Toddler & Kids       0.99      0.97      0.98       931\n",
      "Kitchen, Dining & Household       0.73      0.94      0.82       911\n",
      " Chilled, Frozen & Desserts       0.89      0.88      0.89       951\n",
      "                   Featured       0.99      1.00      1.00       930\n",
      "       Fresh Foods & Bakery       0.93      0.88      0.90       943\n",
      "                  Meal Spot       0.98      0.96      0.97       941\n",
      "                     Pantry       0.84      0.77      0.80       949\n",
      "         Beer, Cider & Wine       0.96      0.91      0.94       929\n",
      "                     Drinks       0.97      0.96      0.96       953\n",
      "                       Pets       1.00      0.98      0.99       933\n",
      "\n",
      "                   accuracy                           0.92     10313\n",
      "                  macro avg       0.93      0.92      0.92     10313\n",
      "               weighted avg       0.93      0.92      0.92     10313\n",
      "\n"
     ]
    }
   ],
   "source": [
    "model, evals_result = lgb_model(x_train, x_test, y_train, y_test, verbose=False)"
   ]
  },
  {
   "cell_type": "code",
   "execution_count": 61,
   "metadata": {},
   "outputs": [
    {
     "data": {
      "text/plain": [
       "<AxesSubplot:title={'center':'Metric during training'}, xlabel='Iterations', ylabel='multi_error'>"
      ]
     },
     "execution_count": 61,
     "metadata": {},
     "output_type": "execute_result"
    },
    {
     "data": {
      "image/png": "[encoded data removed]",
      "text/plain": [
       "<Figure size 432x288 with 1 Axes>"
      ]
     },
     "metadata": {
      "needs_background": "light"
     },
     "output_type": "display_data"
    }
   ],
   "source": [
    "lgb.plot_metric(evals_result)"
   ]
  },
  {
   "cell_type": "code",
   "execution_count": null,
   "metadata": {},
   "outputs": [],
   "source": []
  }
 ],
 "metadata": {
  "kernelspec": {
   "display_name": "Python 3",
   "language": "python",
   "name": "python3"
  },
  "language_info": {
   "codemirror_mode": {
    "name": "ipython",
    "version": 3
   },
   "file_extension": ".py",
   "mimetype": "text/x-python",
   "name": "python",
   "nbconvert_exporter": "python",
   "pygments_lexer": "ipython3",
   "version": "3.7.0"
  }
 },
 "nbformat": 4,
 "nbformat_minor": 5
}
