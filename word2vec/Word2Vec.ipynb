{
 "cells": [
  {
   "cell_type": "markdown",
   "metadata": {},
   "source": [
    "## Word2Vec"
   ]
  },
  {
   "cell_type": "code",
   "execution_count": 4,
   "metadata": {},
   "outputs": [],
   "source": [
    "import numpy as np\n",
    "import os\n",
    "import nltk\n",
    "\n",
    "import torch\n",
    "import torch.nn\n",
    "import torchtext.vocab as vocab\n",
    "from sklearn import metrics\n",
    "import pandas as pd\n",
    "import warnings\n",
    "from collections import Counter\n",
    "from imblearn.over_sampling import RandomOverSampler, SMOTE  \n",
    "from sklearn.metrics import accuracy_score, f1_score, recall_score\n",
    "from sklearn.linear_model import LinearRegression\n",
    "from datetime import datetime\n",
    "from sklearn.neighbors import KNeighborsClassifier\n",
    "from sklearn.model_selection import train_test_split\n",
    "from sklearn.linear_model import LinearRegression\n",
    "\n",
    "warnings.filterwarnings(\"ignore\")"
   ]
  },
  {
   "cell_type": "markdown",
   "metadata": {},
   "source": [
    "## Function definition"
   ]
  },
  {
   "cell_type": "code",
   "execution_count": 6,
   "metadata": {},
   "outputs": [],
   "source": [
    "def load_data():\n",
    "    column = ['ProductName', 'level_1']\n",
    "    df = pd.read_csv(\"D:/jupyter-workplace/classification_project/data_cleaning/unique_product_ros.csv\", encoding='utf_8_sig', usecols=column)\n",
    "    # print(df.columns)\n",
    "    #df.drop(df[df.cat== 'Seafood'].index, inplace= True )\n",
    "    df.columns = ['ProductName', 'level_1']\n",
    "    texts = df['ProductName'].values\n",
    "    df = df.fillna(-1)\n",
    "    # labels = np.argmax(df[df.columns[-4:]].values, axis=1)\n",
    "    labels = df['level_1'].values\n",
    "    label2id = {l: i for i, l in enumerate(set(labels))}\n",
    "    id2label = {i: l for l, i in label2id.items()}\n",
    "    labels = [label2id[l] for l in labels]\n",
    "    return texts, labels, id2label"
   ]
  },
  {
   "cell_type": "code",
   "execution_count": 7,
   "metadata": {},
   "outputs": [],
   "source": [
    "def text_preprocess(text):\n",
    "    text = str(text)\n",
    "    english_punctuations = [',', '.', ':', ';', '?', '(', ')', '[', ']', '&', '!', '*', '@', '#', '$', '%', '\\'', '/']\n",
    "    text = \"\".join([(a if a not in english_punctuations else \" \") for a in text])\n",
    "    text = \" \".join(nltk.tokenize.word_tokenize(text.lower()))\n",
    "    return text"
   ]
  },
  {
   "cell_type": "code",
   "execution_count": 8,
   "metadata": {},
   "outputs": [],
   "source": [
    "def load_embeddings():\n",
    "\n",
    "    cache = '.vector_cache'\n",
    "    if not os.path.exists(cache):\n",
    "        os.mkdir(cache)\n",
    "\n",
    "    word2vec = vocab.Vectors(name=r'./word2vec_300dim.txt', cache=cache)\n",
    "\n",
    "    return word2vec"
   ]
  },
  {
   "cell_type": "code",
   "execution_count": 9,
   "metadata": {},
   "outputs": [],
   "source": [
    "def encode_text_to_features(vector, text):\n",
    "    vectors = vector.get_vecs_by_tokens(text.split())\n",
    "    sentence_vector = torch.mean(vectors, dim=0)\n",
    "    return sentence_vector.tolist()"
   ]
  },
  {
   "cell_type": "code",
   "execution_count": 10,
   "metadata": {},
   "outputs": [],
   "source": [
    "def evaluation(predictions, labels, id2label, model_name=None):\n",
    "    acc = accuracy_score(labels, predictions)\n",
    "    recall = recall_score(labels, predictions, average=\"macro\")\n",
    "    f1 = f1_score(labels, predictions, average=\"macro\")\n",
    "    report = metrics.classification_report(labels, predictions,\n",
    "                                           target_names=[id2label[i] for i in range(len(id2label))])\n",
    "    info = \"acc:%s, recall:%s, f1 score:%s\" % (acc, recall, f1)\n",
    "    if model_name is not None:\n",
    "        info = \"%s: %s\" % (model_name, info)\n",
    "    print(info)\n",
    "    print(report)"
   ]
  },
  {
   "cell_type": "markdown",
   "metadata": {},
   "source": [
    "## Read Data"
   ]
  },
  {
   "cell_type": "code",
   "execution_count": 11,
   "metadata": {},
   "outputs": [
    {
     "data": {
      "text/html": [
       "<div>\n",
       "<style scoped>\n",
       "    .dataframe tbody tr th:only-of-type {\n",
       "        vertical-align: middle;\n",
       "    }\n",
       "\n",
       "    .dataframe tbody tr th {\n",
       "        vertical-align: top;\n",
       "    }\n",
       "\n",
       "    .dataframe thead th {\n",
       "        text-align: right;\n",
       "    }\n",
       "</style>\n",
       "<table border=\"1\" class=\"dataframe\">\n",
       "  <thead>\n",
       "    <tr style=\"text-align: right;\">\n",
       "      <th></th>\n",
       "      <th>ProductName</th>\n",
       "      <th>level_1</th>\n",
       "    </tr>\n",
       "  </thead>\n",
       "  <tbody>\n",
       "    <tr>\n",
       "      <th>0</th>\n",
       "      <td>Johnson's Baby Lotion</td>\n",
       "      <td>Baby, Toddler &amp; Kids</td>\n",
       "    </tr>\n",
       "    <tr>\n",
       "      <th>1</th>\n",
       "      <td>Johnson's Baby Oil</td>\n",
       "      <td>Baby, Toddler &amp; Kids</td>\n",
       "    </tr>\n",
       "    <tr>\n",
       "      <th>2</th>\n",
       "      <td>SMA Balanced Nutrition From Birth Infant Formula</td>\n",
       "      <td>Baby, Toddler &amp; Kids</td>\n",
       "    </tr>\n",
       "    <tr>\n",
       "      <th>3</th>\n",
       "      <td>Johnson's Baby Powder</td>\n",
       "      <td>Baby, Toddler &amp; Kids</td>\n",
       "    </tr>\n",
       "    <tr>\n",
       "      <th>4</th>\n",
       "      <td>Vaseline White Petroleum Jelly</td>\n",
       "      <td>Baby, Toddler &amp; Kids</td>\n",
       "    </tr>\n",
       "  </tbody>\n",
       "</table>\n",
       "</div>"
      ],
      "text/plain": [
       "                                        ProductName               level_1\n",
       "0                             Johnson's Baby Lotion  Baby, Toddler & Kids\n",
       "1                                Johnson's Baby Oil  Baby, Toddler & Kids\n",
       "2  SMA Balanced Nutrition From Birth Infant Formula  Baby, Toddler & Kids\n",
       "3                             Johnson's Baby Powder  Baby, Toddler & Kids\n",
       "4                    Vaseline White Petroleum Jelly  Baby, Toddler & Kids"
      ]
     },
     "execution_count": 11,
     "metadata": {},
     "output_type": "execute_result"
    }
   ],
   "source": [
    "col_list = ['ProductName', 'level_1']\n",
    "data = pd.read_csv('D:/jupyter-workplace/classification_project/data_cleaning/unique_product_ros.csv', encoding='utf_8_sig', usecols=col_list)\n",
    "data.columns = ['ProductName', 'level_1']\n",
    "data.head()"
   ]
  },
  {
   "cell_type": "code",
   "execution_count": 12,
   "metadata": {
    "scrolled": true
   },
   "outputs": [
    {
     "data": {
      "text/html": [
       "<div>\n",
       "<style scoped>\n",
       "    .dataframe tbody tr th:only-of-type {\n",
       "        vertical-align: middle;\n",
       "    }\n",
       "\n",
       "    .dataframe tbody tr th {\n",
       "        vertical-align: top;\n",
       "    }\n",
       "\n",
       "    .dataframe thead th {\n",
       "        text-align: right;\n",
       "    }\n",
       "</style>\n",
       "<table border=\"1\" class=\"dataframe\">\n",
       "  <thead>\n",
       "    <tr style=\"text-align: right;\">\n",
       "      <th></th>\n",
       "      <th>ProductName</th>\n",
       "      <th>level_1</th>\n",
       "    </tr>\n",
       "  </thead>\n",
       "  <tbody>\n",
       "    <tr>\n",
       "      <th>0</th>\n",
       "      <td>johnson s baby lotion</td>\n",
       "      <td>baby toddler kids</td>\n",
       "    </tr>\n",
       "    <tr>\n",
       "      <th>1</th>\n",
       "      <td>johnson s baby oil</td>\n",
       "      <td>baby toddler kids</td>\n",
       "    </tr>\n",
       "    <tr>\n",
       "      <th>2</th>\n",
       "      <td>sma balanced nutrition from birth infant formula</td>\n",
       "      <td>baby toddler kids</td>\n",
       "    </tr>\n",
       "    <tr>\n",
       "      <th>3</th>\n",
       "      <td>johnson s baby powder</td>\n",
       "      <td>baby toddler kids</td>\n",
       "    </tr>\n",
       "    <tr>\n",
       "      <th>4</th>\n",
       "      <td>vaseline white petroleum jelly</td>\n",
       "      <td>baby toddler kids</td>\n",
       "    </tr>\n",
       "  </tbody>\n",
       "</table>\n",
       "</div>"
      ],
      "text/plain": [
       "                                        ProductName            level_1\n",
       "0                             johnson s baby lotion  baby toddler kids\n",
       "1                                johnson s baby oil  baby toddler kids\n",
       "2  sma balanced nutrition from birth infant formula  baby toddler kids\n",
       "3                             johnson s baby powder  baby toddler kids\n",
       "4                    vaseline white petroleum jelly  baby toddler kids"
      ]
     },
     "execution_count": 12,
     "metadata": {},
     "output_type": "execute_result"
    }
   ],
   "source": [
    "data = data.apply([text_preprocess])\n",
    "data.columns = ['ProductName', 'level_1']\n",
    "data.head()"
   ]
  },
  {
   "cell_type": "markdown",
   "metadata": {},
   "source": [
    "## Prepare Word2Vec"
   ]
  },
  {
   "cell_type": "code",
   "execution_count": 13,
   "metadata": {},
   "outputs": [],
   "source": [
    "corpus = open('./corpus.txt', 'w', encoding='utf_8_sig')\n",
    "for i in range(len(data['ProductName'])):\n",
    "    newline = data['ProductName'][i] + ' ' + data['level_1'][i] + '\\n'\n",
    "    corpus.write(newline)"
   ]
  },
  {
   "cell_type": "code",
   "execution_count": 14,
   "metadata": {
    "scrolled": true
   },
   "outputs": [],
   "source": [
    "from gensim.models import Word2Vec\n",
    "from gensim.models.word2vec import LineSentence\n",
    "import multiprocessing"
   ]
  },
  {
   "cell_type": "code",
   "execution_count": 15,
   "metadata": {},
   "outputs": [],
   "source": [
    "readlines = open('./corpus.txt', 'r', encoding='utf_8_sig')\n",
    "\n",
    "model = Word2Vec(LineSentence(readlines),\n",
    "                 vector_size=300, window=5, min_count=10, sample=1e-5,\n",
    "                 workers=multiprocessing.cpu_count(), epochs=5,)\n",
    "\n",
    "model.wv.save_word2vec_format(r'./word2vec_300dim.txt', binary=False)"
   ]
  },
  {
   "cell_type": "code",
   "execution_count": 16,
   "metadata": {},
   "outputs": [
    {
     "name": "stdout",
     "output_type": "stream",
     "text": [
      "data len: 41250\n",
      "id2label {0: 'Beer, Cider & Wine', 1: 'Personal Care', 2: 'Drinks', 3: 'Featured', 4: 'Pets', 5: 'Meal Spot', 6: 'Pantry', 7: 'Baby, Toddler & Kids', 8: 'Chilled, Frozen & Desserts', 9: 'Fresh Foods & Bakery', 10: 'Kitchen, Dining & Household'}\n"
     ]
    }
   ],
   "source": [
    "texts, labels, id2label = load_data()\n",
    "texts = [text_preprocess(t) for t in texts]\n",
    "vector = load_embeddings()\n",
    "features = [encode_text_to_features(vector, text) for text in texts]\n",
    "print(\"data len:\", len(texts))\n",
    "print(\"id2label\",id2label)"
   ]
  },
  {
   "cell_type": "code",
   "execution_count": 17,
   "metadata": {},
   "outputs": [],
   "source": [
    "#Start Training\n",
    "x_train, x_test, y_train, y_test = train_test_split(features, labels, test_size=0.25,\n",
    "                                                                            random_state=3)"
   ]
  },
  {
   "cell_type": "markdown",
   "metadata": {},
   "source": [
    "## Logistic Rregression"
   ]
  },
  {
   "cell_type": "code",
   "execution_count": 18,
   "metadata": {},
   "outputs": [
    {
     "name": "stdout",
     "output_type": "stream",
     "text": [
      "logistic: acc:0.19567536119460874, recall:0.19554136311645118, f1 score:0.19041338917208508\n",
      "                             precision    recall  f1-score   support\n",
      "\n",
      "         Beer, Cider & Wine       0.71      0.22      0.34       929\n",
      "              Personal Care       0.15      0.05      0.07       942\n",
      "                     Drinks       0.28      0.21      0.24       953\n",
      "                   Featured       0.19      0.23      0.21       930\n",
      "                       Pets       0.17      0.30      0.22       933\n",
      "                  Meal Spot       0.15      0.30      0.19       941\n",
      "                     Pantry       0.12      0.23      0.16       949\n",
      "       Baby, Toddler & Kids       0.23      0.32      0.27       931\n",
      " Chilled, Frozen & Desserts       0.20      0.14      0.17       951\n",
      "       Fresh Foods & Bakery       0.36      0.10      0.16       943\n",
      "Kitchen, Dining & Household       0.20      0.05      0.07       911\n",
      "\n",
      "                   accuracy                           0.20     10313\n",
      "                  macro avg       0.25      0.20      0.19     10313\n",
      "               weighted avg       0.25      0.20      0.19     10313\n",
      "\n"
     ]
    }
   ],
   "source": [
    "# logistic\n",
    "model = LinearRegression()\n",
    "model.fit(x_train, y_train)\n",
    "predict_labels = model.predict(x_test)\n",
    "# print(predict_labels)\n",
    "predict_labels = [np.round(p) for p in predict_labels]\n",
    "max_label = len(id2label) - 1\n",
    "predict_labels = [l if max_label >= l else max_label for l in predict_labels]\n",
    "min_label = 0\n",
    "predict_labels = [l if min_label <= l else min_label for l in predict_labels]\n",
    "evaluation(predict_labels, y_test,id2label, \"logistic\")"
   ]
  },
  {
   "cell_type": "markdown",
   "metadata": {},
   "source": [
    "## KNN "
   ]
  },
  {
   "cell_type": "code",
   "execution_count": 19,
   "metadata": {},
   "outputs": [
    {
     "name": "stdout",
     "output_type": "stream",
     "text": [
      "knn: acc:0.9008048094637836, recall:0.9013587336385676, f1 score:0.8980955923337475\n",
      "                             precision    recall  f1-score   support\n",
      "\n",
      "         Beer, Cider & Wine       0.80      0.94      0.87       929\n",
      "              Personal Care       0.94      0.83      0.88       942\n",
      "                     Drinks       0.94      0.96      0.95       953\n",
      "                   Featured       0.94      1.00      0.97       930\n",
      "                       Pets       0.95      0.98      0.97       933\n",
      "                  Meal Spot       0.93      0.98      0.96       941\n",
      "                     Pantry       0.94      0.61      0.74       949\n",
      "       Baby, Toddler & Kids       0.91      0.99      0.95       931\n",
      " Chilled, Frozen & Desserts       0.87      0.85      0.86       951\n",
      "       Fresh Foods & Bakery       0.94      0.86      0.90       943\n",
      "Kitchen, Dining & Household       0.79      0.91      0.85       911\n",
      "\n",
      "                   accuracy                           0.90     10313\n",
      "                  macro avg       0.90      0.90      0.90     10313\n",
      "               weighted avg       0.91      0.90      0.90     10313\n",
      "\n"
     ]
    }
   ],
   "source": [
    "# knn\n",
    "k = len(id2label)\n",
    "model = KNeighborsClassifier(n_neighbors=k)\n",
    "model.fit(x_train, y_train)\n",
    "predict_labels = model.predict(x_test)\n",
    "evaluation(predict_labels, y_test, id2label, \"knn\")"
   ]
  },
  {
   "cell_type": "markdown",
   "metadata": {},
   "source": [
    "## SVM"
   ]
  },
  {
   "cell_type": "code",
   "execution_count": 20,
   "metadata": {},
   "outputs": [
    {
     "name": "stdout",
     "output_type": "stream",
     "text": [
      "svm: acc:0.9707165713177542, recall:0.9708160203613755, f1 score:0.9706545362533755\n",
      "                             precision    recall  f1-score   support\n",
      "\n",
      "         Beer, Cider & Wine       0.99      0.95      0.97       929\n",
      "              Personal Care       0.97      0.97      0.97       942\n",
      "                     Drinks       0.99      0.99      0.99       953\n",
      "                   Featured       0.99      1.00      1.00       930\n",
      "                       Pets       1.00      1.00      1.00       933\n",
      "                  Meal Spot       0.98      0.98      0.98       941\n",
      "                     Pantry       0.96      0.88      0.92       949\n",
      "       Baby, Toddler & Kids       1.00      0.99      0.99       931\n",
      " Chilled, Frozen & Desserts       0.95      0.97      0.96       951\n",
      "       Fresh Foods & Bakery       0.96      0.97      0.97       943\n",
      "Kitchen, Dining & Household       0.90      0.97      0.94       911\n",
      "\n",
      "                   accuracy                           0.97     10313\n",
      "                  macro avg       0.97      0.97      0.97     10313\n",
      "               weighted avg       0.97      0.97      0.97     10313\n",
      "\n"
     ]
    }
   ],
   "source": [
    "from sklearn.svm import SVC\n",
    "from sklearn.multiclass import OneVsRestClassifier\n",
    "model = OneVsRestClassifier(SVC())#C=1, gamma=20, decision_function_shape='ovr'))\n",
    "model.fit(x_train, y_train)\n",
    "predict_labels = model.predict(x_test)\n",
    "evaluation(predict_labels, y_test, id2label, \"svm\")"
   ]
  },
  {
   "cell_type": "markdown",
   "metadata": {},
   "source": [
    "## GDBT"
   ]
  },
  {
   "cell_type": "code",
   "execution_count": 21,
   "metadata": {},
   "outputs": [],
   "source": [
    "# GDBT\n",
    "import lightgbm as lgb\n",
    "\n",
    "def lgb_model(x_train, x_test, y_train, y_test, verbose):\n",
    "    params = {'num_leaves': 60,\n",
    "    'min_data_in_leaf': 30,\n",
    "    'objective': 'multiclass',\n",
    "    'num_class': 33,\n",
    "    'max_depth': -1,\n",
    "    'learning_rate': 0.03,\n",
    "    \"min_sum_hessian_in_leaf\": 6,\n",
    "    \"boosting\": \"gbdt\",\n",
    "    \"feature_fraction\": 0.9,\n",
    "    \"bagging_freq\": 1,\n",
    "    \"bagging_fraction\": 0.8,\n",
    "    \"bagging_seed\": 11,\n",
    "    \"lambda_l1\": 0.1,\n",
    "    \"verbosity\": -1,\n",
    "    \"nthread\": 15,\n",
    "    'metric': 'multi_error',\n",
    "    \"random_state\": 2020\n",
    "          }\n",
    "\n",
    "    model = lgb.train(params\n",
    "                      , lgb.Dataset(x_train, y_train)\n",
    "                      , num_boost_round = 100000\n",
    "                      , valid_sets = [lgb.Dataset(x_test, y_test)]\n",
    "                      , verbose_eval = verbose\n",
    "                      , early_stopping_rounds = 500\n",
    "                     )\n",
    "\n",
    "    print('Predicting...')\n",
    "    y_prob = model.predict(x_test, num_iteration=model.best_iteration)\n",
    "    y_pred = [list(x).index(max(x)) for x in y_prob]\n",
    "    print(\"AUC score: {:<8.5f}\".format(metrics.accuracy_score(y_pred, y_test)))\n",
    "    report = metrics.classification_report(y_test, y_pred, target_names=[id2label[i] for i in range(len(id2label))])\n",
    "    print(report)\n",
    "\n",
    "    return True\n",
    "\n",
    "\n"
   ]
  },
  {
   "cell_type": "code",
   "execution_count": 22,
   "metadata": {
    "scrolled": true
   },
   "outputs": [
    {
     "name": "stdout",
     "output_type": "stream",
     "text": [
      "Predicting...\n",
      "AUC score: 0.97760 \n",
      "                             precision    recall  f1-score   support\n",
      "\n",
      "         Beer, Cider & Wine       0.94      0.99      0.97       929\n",
      "              Personal Care       0.99      0.97      0.98       942\n",
      "                     Drinks       0.99      0.99      0.99       953\n",
      "                   Featured       1.00      1.00      1.00       930\n",
      "                       Pets       1.00      1.00      1.00       933\n",
      "                  Meal Spot       0.99      0.99      0.99       941\n",
      "                     Pantry       0.94      0.91      0.93       949\n",
      "       Baby, Toddler & Kids       0.99      1.00      0.99       931\n",
      " Chilled, Frozen & Desserts       0.97      0.96      0.97       951\n",
      "       Fresh Foods & Bakery       0.97      0.98      0.98       943\n",
      "Kitchen, Dining & Household       0.98      0.96      0.97       911\n",
      "\n",
      "                   accuracy                           0.98     10313\n",
      "                  macro avg       0.98      0.98      0.98     10313\n",
      "               weighted avg       0.98      0.98      0.98     10313\n",
      "\n"
     ]
    }
   ],
   "source": [
    "final = lgb_model(x_train, x_test, y_train, y_test, verbose=False)"
   ]
  },
  {
   "cell_type": "markdown",
   "metadata": {},
   "source": [
    "## SVM"
   ]
  },
  {
   "cell_type": "code",
   "execution_count": 23,
   "metadata": {},
   "outputs": [
    {
     "name": "stdout",
     "output_type": "stream",
     "text": [
      "svm: acc:0.9707165713177542, recall:0.9708160203613755, f1 score:0.9706545362533755\n",
      "                             precision    recall  f1-score   support\n",
      "\n",
      "         Beer, Cider & Wine       0.99      0.95      0.97       929\n",
      "              Personal Care       0.97      0.97      0.97       942\n",
      "                     Drinks       0.99      0.99      0.99       953\n",
      "                   Featured       0.99      1.00      1.00       930\n",
      "                       Pets       1.00      1.00      1.00       933\n",
      "                  Meal Spot       0.98      0.98      0.98       941\n",
      "                     Pantry       0.96      0.88      0.92       949\n",
      "       Baby, Toddler & Kids       1.00      0.99      0.99       931\n",
      " Chilled, Frozen & Desserts       0.95      0.97      0.96       951\n",
      "       Fresh Foods & Bakery       0.96      0.97      0.97       943\n",
      "Kitchen, Dining & Household       0.90      0.97      0.94       911\n",
      "\n",
      "                   accuracy                           0.97     10313\n",
      "                  macro avg       0.97      0.97      0.97     10313\n",
      "               weighted avg       0.97      0.97      0.97     10313\n",
      "\n"
     ]
    }
   ],
   "source": [
    "from sklearn.multiclass import OneVsRestClassifier\n",
    "from sklearn.model_selection import GridSearchCV\n",
    "from sklearn.svm import SVC\n",
    "model = OneVsRestClassifier(SVC())\n",
    "model.fit(x_train, y_train)\n",
    "predict_labels = model.predict(x_test)\n",
    "evaluation(predict_labels, y_test, id2label, \"svm\")"
   ]
  },
  {
   "cell_type": "code",
   "execution_count": 24,
   "metadata": {},
   "outputs": [],
   "source": [
    "import matplotlib.pyplot as plt\n",
    "from sklearn.model_selection import learning_curve"
   ]
  },
  {
   "cell_type": "code",
   "execution_count": 25,
   "metadata": {},
   "outputs": [
    {
     "data": {
      "image/png": "[encoded data removed]",
      "text/plain": [
       "<Figure size 432x288 with 1 Axes>"
      ]
     },
     "metadata": {
      "needs_background": "light"
     },
     "output_type": "display_data"
    }
   ],
   "source": [
    "train_sizes,train_score,test_score = learning_curve(SVC(),features,labels,train_sizes=[0.1,0.2,0.4,0.6,0.8,1],cv=5,scoring='accuracy')\n",
    "train_error =  1- np.mean(train_score,axis=1)\n",
    "test_error = 1- np.mean(test_score,axis=1)\n",
    "plt.plot(train_sizes,train_error,'o-',color = 'r',label = 'training')\n",
    "plt.plot(train_sizes,test_error,'o-',color = 'g',label = 'testing')\n",
    "plt.legend(loc='best')\n",
    "plt.xlabel('traing examples')\n",
    "plt.ylabel('error')\n",
    "plt.show()"
   ]
  }
 ],
 "metadata": {
  "kernelspec": {
   "display_name": "Python 3",
   "language": "python",
   "name": "python3"
  },
  "language_info": {
   "codemirror_mode": {
    "name": "ipython",
    "version": 3
   },
   "file_extension": ".py",
   "mimetype": "text/x-python",
   "name": "python",
   "nbconvert_exporter": "python",
   "pygments_lexer": "ipython3",
   "version": "3.7.0"
  }
 },
 "nbformat": 4,
 "nbformat_minor": 5
}
